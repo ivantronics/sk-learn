{
 "cells": [
  {
   "cell_type": "code",
   "execution_count": 1,
   "metadata": {
    "ExecuteTime": {
     "start_time": "2023-08-25T14:24:41.265816Z",
     "end_time": "2023-08-25T14:24:58.708910Z"
    }
   },
   "outputs": [],
   "source": [
    "import pandas as pd\n",
    "import numpy as np\n",
    "import matplotlib.pyplot as plt\n",
    "\n",
    "from sklearn.datasets import fetch_openml\n",
    "from sklearn.model_selection import StratifiedShuffleSplit\n",
    "from sklearn.tree import DecisionTreeClassifier\n",
    "\n",
    "data = fetch_openml('mnist_784', version=1, parser=\"auto\")  # data from https://www.openml.org/d/554\n",
    "dfData = pd.DataFrame(np.c_[data[\"data\"], data[\"target\"]],\n",
    "                      columns = data[\"feature_names\"] + [\"target\"])"
   ]
  },
  {
   "cell_type": "code",
   "execution_count": 2,
   "metadata": {
    "ExecuteTime": {
     "start_time": "2023-08-25T14:24:58.712909Z",
     "end_time": "2023-08-25T14:25:04.139349Z"
    }
   },
   "outputs": [],
   "source": [
    "stratSplit = StratifiedShuffleSplit(n_splits=1, test_size=0.2, random_state=0)\n",
    "\n",
    "for train_index, test_index in stratSplit.split(dfData[data[\"feature_names\"]], dfData[\"target\"]):\n",
    "    X_train = dfData[data[\"feature_names\"]].iloc[train_index]\n",
    "    X_test = dfData[data[\"feature_names\"]].iloc[test_index]\n",
    "    \n",
    "    y_train = dfData[\"target\"].iloc[train_index]\n",
    "    y_test = dfData[\"target\"].iloc[test_index]"
   ]
  },
  {
   "cell_type": "code",
   "execution_count": 3,
   "metadata": {
    "ExecuteTime": {
     "start_time": "2023-08-25T14:25:04.146349Z",
     "end_time": "2023-08-25T14:38:50.464347Z"
    }
   },
   "outputs": [
    {
     "data": {
      "text/plain": "GradientBoostingClassifier(n_estimators=30, random_state=0, subsample=0.9)",
      "text/html": "<style>#sk-container-id-1 {color: black;background-color: white;}#sk-container-id-1 pre{padding: 0;}#sk-container-id-1 div.sk-toggleable {background-color: white;}#sk-container-id-1 label.sk-toggleable__label {cursor: pointer;display: block;width: 100%;margin-bottom: 0;padding: 0.3em;box-sizing: border-box;text-align: center;}#sk-container-id-1 label.sk-toggleable__label-arrow:before {content: \"▸\";float: left;margin-right: 0.25em;color: #696969;}#sk-container-id-1 label.sk-toggleable__label-arrow:hover:before {color: black;}#sk-container-id-1 div.sk-estimator:hover label.sk-toggleable__label-arrow:before {color: black;}#sk-container-id-1 div.sk-toggleable__content {max-height: 0;max-width: 0;overflow: hidden;text-align: left;background-color: #f0f8ff;}#sk-container-id-1 div.sk-toggleable__content pre {margin: 0.2em;color: black;border-radius: 0.25em;background-color: #f0f8ff;}#sk-container-id-1 input.sk-toggleable__control:checked~div.sk-toggleable__content {max-height: 200px;max-width: 100%;overflow: auto;}#sk-container-id-1 input.sk-toggleable__control:checked~label.sk-toggleable__label-arrow:before {content: \"▾\";}#sk-container-id-1 div.sk-estimator input.sk-toggleable__control:checked~label.sk-toggleable__label {background-color: #d4ebff;}#sk-container-id-1 div.sk-label input.sk-toggleable__control:checked~label.sk-toggleable__label {background-color: #d4ebff;}#sk-container-id-1 input.sk-hidden--visually {border: 0;clip: rect(1px 1px 1px 1px);clip: rect(1px, 1px, 1px, 1px);height: 1px;margin: -1px;overflow: hidden;padding: 0;position: absolute;width: 1px;}#sk-container-id-1 div.sk-estimator {font-family: monospace;background-color: #f0f8ff;border: 1px dotted black;border-radius: 0.25em;box-sizing: border-box;margin-bottom: 0.5em;}#sk-container-id-1 div.sk-estimator:hover {background-color: #d4ebff;}#sk-container-id-1 div.sk-parallel-item::after {content: \"\";width: 100%;border-bottom: 1px solid gray;flex-grow: 1;}#sk-container-id-1 div.sk-label:hover label.sk-toggleable__label {background-color: #d4ebff;}#sk-container-id-1 div.sk-serial::before {content: \"\";position: absolute;border-left: 1px solid gray;box-sizing: border-box;top: 0;bottom: 0;left: 50%;z-index: 0;}#sk-container-id-1 div.sk-serial {display: flex;flex-direction: column;align-items: center;background-color: white;padding-right: 0.2em;padding-left: 0.2em;position: relative;}#sk-container-id-1 div.sk-item {position: relative;z-index: 1;}#sk-container-id-1 div.sk-parallel {display: flex;align-items: stretch;justify-content: center;background-color: white;position: relative;}#sk-container-id-1 div.sk-item::before, #sk-container-id-1 div.sk-parallel-item::before {content: \"\";position: absolute;border-left: 1px solid gray;box-sizing: border-box;top: 0;bottom: 0;left: 50%;z-index: -1;}#sk-container-id-1 div.sk-parallel-item {display: flex;flex-direction: column;z-index: 1;position: relative;background-color: white;}#sk-container-id-1 div.sk-parallel-item:first-child::after {align-self: flex-end;width: 50%;}#sk-container-id-1 div.sk-parallel-item:last-child::after {align-self: flex-start;width: 50%;}#sk-container-id-1 div.sk-parallel-item:only-child::after {width: 0;}#sk-container-id-1 div.sk-dashed-wrapped {border: 1px dashed gray;margin: 0 0.4em 0.5em 0.4em;box-sizing: border-box;padding-bottom: 0.4em;background-color: white;}#sk-container-id-1 div.sk-label label {font-family: monospace;font-weight: bold;display: inline-block;line-height: 1.2em;}#sk-container-id-1 div.sk-label-container {text-align: center;}#sk-container-id-1 div.sk-container {/* jupyter's `normalize.less` sets `[hidden] { display: none; }` but bootstrap.min.css set `[hidden] { display: none !important; }` so we also need the `!important` here to be able to override the default hidden behavior on the sphinx rendered scikit-learn.org. See: https://github.com/scikit-learn/scikit-learn/issues/21755 */display: inline-block !important;position: relative;}#sk-container-id-1 div.sk-text-repr-fallback {display: none;}</style><div id=\"sk-container-id-1\" class=\"sk-top-container\"><div class=\"sk-text-repr-fallback\"><pre>GradientBoostingClassifier(n_estimators=30, random_state=0, subsample=0.9)</pre><b>In a Jupyter environment, please rerun this cell to show the HTML representation or trust the notebook. <br />On GitHub, the HTML representation is unable to render, please try loading this page with nbviewer.org.</b></div><div class=\"sk-container\" hidden><div class=\"sk-item\"><div class=\"sk-estimator sk-toggleable\"><input class=\"sk-toggleable__control sk-hidden--visually\" id=\"sk-estimator-id-1\" type=\"checkbox\" checked><label for=\"sk-estimator-id-1\" class=\"sk-toggleable__label sk-toggleable__label-arrow\">GradientBoostingClassifier</label><div class=\"sk-toggleable__content\"><pre>GradientBoostingClassifier(n_estimators=30, random_state=0, subsample=0.9)</pre></div></div></div></div></div>"
     },
     "execution_count": 3,
     "metadata": {},
     "output_type": "execute_result"
    }
   ],
   "source": [
    "from sklearn.ensemble import GradientBoostingClassifier\n",
    "\n",
    "# For classification, regression trees are still used to perform fitting on residuals\n",
    "grad_boost_clf = GradientBoostingClassifier(n_estimators = 30,\n",
    "                                            loss = 'log_loss', # 2*neg. log. likelihood\n",
    "                                                           # loss determines how residuals are calculated, residuals\n",
    "                                                           # are the negative gradient of the loss\n",
    "                                            learning_rate = 0.1,\n",
    "                                            subsample = 0.9, # bagging\n",
    "                                            criterion = 'friedman_mse', # decision tree splitting criterion\n",
    "                                            random_state = 0) # random state for Grad. Boost. Ensemble\n",
    "                                            # additional decision tree parameters\n",
    "\n",
    "grad_boost_clf.fit(X_train, y_train)"
   ]
  },
  {
   "cell_type": "code",
   "execution_count": 4,
   "metadata": {
    "ExecuteTime": {
     "start_time": "2023-08-25T14:38:50.471348Z",
     "end_time": "2023-08-25T14:38:50.550347Z"
    }
   },
   "outputs": [
    {
     "name": "stdout",
     "output_type": "stream",
     "text": [
      "(30, 10)\n",
      "(30,)\n",
      "(30,)\n",
      "(784,)\n"
     ]
    }
   ],
   "source": [
    "print(grad_boost_clf.estimators_.shape)  # (n_estimators, n_classes)\n",
    "                                         # estimators at each stage for each class (if multiclass problem)\n",
    "print(grad_boost_clf.train_score_.shape)  # loss at each estimator in the ensemble for in-bag data, or training date\n",
    "                                          # if subsamples=1\n",
    "print(grad_boost_clf.oob_improvement_.shape)  # available if we have subsample<1, loss improvements of oob samples\n",
    "                                              # compared to previous stage\n",
    "print(grad_boost_clf.feature_importances_.shape)"
   ]
  },
  {
   "cell_type": "code",
   "execution_count": 5,
   "metadata": {
    "ExecuteTime": {
     "start_time": "2023-08-25T14:38:50.512350Z",
     "end_time": "2023-08-25T14:38:51.711764Z"
    }
   },
   "outputs": [
    {
     "data": {
      "text/plain": "0.9011428571428571"
     },
     "execution_count": 5,
     "metadata": {},
     "output_type": "execute_result"
    }
   ],
   "source": [
    "grad_boost_clf.score(X_test, y_test)"
   ]
  },
  {
   "cell_type": "code",
   "execution_count": 6,
   "metadata": {
    "ExecuteTime": {
     "start_time": "2023-08-25T14:38:52.305003Z",
     "end_time": "2023-08-25T14:38:53.752153Z"
    }
   },
   "outputs": [
    {
     "name": "stdout",
     "output_type": "stream",
     "text": [
      "stage:  1 stage predictions: ['0' '0' '9' ... '5' '2' '7'] staged_score: 0.6631 14000\n",
      "stage:  2 stage predictions: ['0' '0' '9' ... '5' '2' '7'] staged_score: 0.7336 14000\n",
      "stage:  3 stage predictions: ['0' '0' '9' ... '5' '2' '7'] staged_score: 0.7563 14000\n",
      "stage:  4 stage predictions: ['0' '0' '4' ... '5' '2' '7'] staged_score: 0.7823 14000\n",
      "stage:  5 stage predictions: ['0' '0' '4' ... '5' '2' '7'] staged_score: 0.7926 14000\n",
      "stage:  6 stage predictions: ['0' '0' '4' ... '5' '2' '7'] staged_score: 0.8021 14000\n",
      "stage:  7 stage predictions: ['0' '0' '4' ... '5' '2' '7'] staged_score: 0.8130 14000\n",
      "stage:  8 stage predictions: ['0' '0' '4' ... '5' '2' '7'] staged_score: 0.8219 14000\n",
      "stage:  9 stage predictions: ['0' '0' '4' ... '5' '2' '7'] staged_score: 0.8324 14000\n",
      "stage: 10 stage predictions: ['0' '0' '4' ... '5' '2' '7'] staged_score: 0.8414 14000\n",
      "stage: 11 stage predictions: ['0' '0' '4' ... '5' '2' '7'] staged_score: 0.8461 14000\n",
      "stage: 12 stage predictions: ['0' '0' '4' ... '5' '2' '7'] staged_score: 0.8511 14000\n",
      "stage: 13 stage predictions: ['0' '0' '4' ... '5' '2' '7'] staged_score: 0.8561 14000\n",
      "stage: 14 stage predictions: ['0' '0' '4' ... '5' '2' '7'] staged_score: 0.8609 14000\n",
      "stage: 15 stage predictions: ['0' '0' '4' ... '5' '2' '7'] staged_score: 0.8657 14000\n",
      "stage: 16 stage predictions: ['0' '0' '4' ... '5' '2' '7'] staged_score: 0.8708 14000\n",
      "stage: 17 stage predictions: ['0' '0' '4' ... '5' '2' '7'] staged_score: 0.8731 14000\n",
      "stage: 18 stage predictions: ['0' '0' '4' ... '5' '2' '7'] staged_score: 0.8751 14000\n",
      "stage: 19 stage predictions: ['0' '0' '4' ... '5' '2' '7'] staged_score: 0.8787 14000\n",
      "stage: 20 stage predictions: ['0' '0' '4' ... '5' '2' '7'] staged_score: 0.8797 14000\n",
      "stage: 21 stage predictions: ['0' '0' '4' ... '5' '2' '7'] staged_score: 0.8824 14000\n",
      "stage: 22 stage predictions: ['0' '0' '4' ... '5' '2' '7'] staged_score: 0.8841 14000\n",
      "stage: 23 stage predictions: ['0' '0' '4' ... '5' '2' '7'] staged_score: 0.8872 14000\n",
      "stage: 24 stage predictions: ['0' '0' '4' ... '5' '2' '7'] staged_score: 0.8889 14000\n",
      "stage: 25 stage predictions: ['0' '0' '4' ... '5' '2' '7'] staged_score: 0.8922 14000\n",
      "stage: 26 stage predictions: ['0' '0' '4' ... '5' '2' '7'] staged_score: 0.8930 14000\n",
      "stage: 27 stage predictions: ['0' '0' '4' ... '5' '2' '7'] staged_score: 0.8954 14000\n",
      "stage: 28 stage predictions: ['0' '0' '4' ... '5' '2' '7'] staged_score: 0.8970 14000\n",
      "stage: 29 stage predictions: ['0' '0' '4' ... '5' '2' '7'] staged_score: 0.8989 14000\n",
      "stage: 30 stage predictions: ['0' '0' '4' ... '5' '2' '7'] staged_score: 0.9011 14000\n"
     ]
    }
   ],
   "source": [
    "from sklearn.metrics import accuracy_score\n",
    "#resulting final prediction at each stage of the estimator\n",
    "stage = 1\n",
    "for stage_pred in grad_boost_clf.staged_predict(X_test):\n",
    "    print('stage:',\"{0:2d}\".format(stage),\n",
    "          'stage predictions:', stage_pred,\n",
    "          # staged score doesn't exist internally\n",
    "          'staged_score:', \"{0:.4f}\".format(accuracy_score(y_pred=stage_pred, y_true=y_test)),\n",
    "          len(stage_pred))\n",
    "    stage += 1"
   ]
  },
  {
   "cell_type": "code",
   "execution_count": 6,
   "metadata": {
    "ExecuteTime": {
     "start_time": "2023-08-25T14:38:53.754152Z",
     "end_time": "2023-08-25T14:38:53.758154Z"
    }
   },
   "outputs": [],
   "source": []
  }
 ],
 "metadata": {
  "kernelspec": {
   "display_name": "Python 3",
   "language": "python",
   "name": "python3"
  },
  "language_info": {
   "codemirror_mode": {
    "name": "ipython",
    "version": 3
   },
   "file_extension": ".py",
   "mimetype": "text/x-python",
   "name": "python",
   "nbconvert_exporter": "python",
   "pygments_lexer": "ipython3",
   "version": "3.7.6"
  }
 },
 "nbformat": 4,
 "nbformat_minor": 2
}
