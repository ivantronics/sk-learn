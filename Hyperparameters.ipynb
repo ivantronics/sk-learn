{
 "cells": [
  {
   "cell_type": "code",
   "execution_count": 3,
   "metadata": {
    "ExecuteTime": {
     "start_time": "2023-08-25T15:03:19.100269Z",
     "end_time": "2023-08-25T15:03:29.972088Z"
    }
   },
   "outputs": [],
   "source": [
    "import pandas as pd\n",
    "import numpy as np\n",
    "import matplotlib.pyplot as plt\n",
    "\n",
    "from sklearn.datasets import fetch_openml\n",
    "from sklearn.model_selection import StratifiedShuffleSplit\n",
    "\n",
    "from sklearn.metrics import precision_recall_fscore_support\n",
    "\n",
    "data= fetch_openml('mnist_784', version=1, parser='auto')  # data from https://www.openml.org/d/554\n",
    "dfData = pd.DataFrame(np.c_[data[\"data\"], data[\"target\"]],\n",
    "                      columns = data[\"feature_names\"] + [\"target\"])"
   ]
  },
  {
   "cell_type": "code",
   "execution_count": null,
   "metadata": {},
   "outputs": [],
   "source": [
    "stratSplit = StratifiedShuffleSplit(n_splits=1, test_size=0.2, random_state=0)\n",
    "\n",
    "for train_index, test_index in stratSplit.split(dfData[data[\"feature_names\"]], dfData[\"target\"]):\n",
    "    X_train = dfData[data[\"feature_names\"]].iloc[train_index]\n",
    "    X_test = dfData[data[\"feature_names\"]].iloc[test_index]\n",
    "    \n",
    "    y_train = dfData[\"target\"].iloc[train_index]\n",
    "    y_test = dfData[\"target\"].iloc[test_index]"
   ]
  },
  {
   "cell_type": "code",
   "execution_count": 5,
   "metadata": {
    "ExecuteTime": {
     "start_time": "2023-08-25T15:03:45.655217Z",
     "end_time": "2023-08-25T15:03:45.757745Z"
    }
   },
   "outputs": [],
   "source": [
    "from sklearn.linear_model import LogisticRegression\n",
    "logReg_clf = LogisticRegression()"
   ]
  },
  {
   "cell_type": "code",
   "execution_count": null,
   "metadata": {},
   "outputs": [],
   "source": [
    "from sklearn.model_selection import cross_validate\n",
    "\n",
    "results = cross_validate(logReg_clf,\n",
    "                         X = X_train,\n",
    "                         y = y_train,\n",
    "                         scoring = [\"accuracy\",\"roc_auc_ovr_weighted\",\"f1_macro\"],\n",
    "                         cv = 5,  # If our estimator is classifier automatically do stratified CV\n",
    "                         n_jobs = 1,  # Num CPUs to use for calculation, -1 means all\n",
    "                         verbose = True,  # Output status updates\n",
    "                         return_train_score = True,\n",
    "                         return_estimator = True)"
   ]
  },
  {
   "cell_type": "code",
   "execution_count": null,
   "metadata": {},
   "outputs": [],
   "source": [
    "print(np.mean(results[\"test_f1_macro\"]))\n",
    "# Variation in our predictions\n",
    "print(np.std(results[\"test_f1_macro\"]))"
   ]
  },
  {
   "cell_type": "code",
   "execution_count": 8,
   "metadata": {
    "ExecuteTime": {
     "start_time": "2023-08-25T15:03:59.422246Z",
     "end_time": "2023-08-25T15:03:59.429248Z"
    }
   },
   "outputs": [],
   "source": [
    "logReg_clf = LogisticRegression(tol = 0.0001,  # requirement for convergence\n",
    "                                fit_intercept=True,  # should a bias be added to the decision function?\n",
    "                                class_weight = {\"1\": 1, \"2\": 2, \"3\": 3, \"4\": 4,\n",
    "                                                \"5\": 5, \"6\": 6, \"7\": 7, \"8\": 8,\n",
    "                                                \"9\": 9, \"0\": 0},  # balanced, None\n",
    "                                max_iter = 100,  # Maximum number of iterations to do before stopping if not converged\n",
    "                                solver = \"lbfgs\",  # Algorithm for optimization\n",
    "                                multi_class=\"auto\",  # Multiclass process to use\n",
    "                                verbose = False,  # Output status updates\n",
    "                                warm_start = False,  # Save training states\n",
    "                                n_jobs=1)  # Number of CPUs to use for parallel training across multiple classes"
   ]
  },
  {
   "cell_type": "code",
   "execution_count": null,
   "metadata": {},
   "outputs": [],
   "source": []
  }
 ],
 "metadata": {
  "kernelspec": {
   "display_name": "Python 3",
   "language": "python",
   "name": "python3"
  }
 },
 "nbformat": 4,
 "nbformat_minor": 2
}
