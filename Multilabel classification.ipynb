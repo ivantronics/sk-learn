{
 "cells": [
  {
   "cell_type": "code",
   "execution_count": 16,
   "metadata": {},
   "outputs": [],
   "source": [
    "import pandas as pd\n",
    "import numpy as np\n",
    "import matplotlib.pyplot as plt\n",
    "\n",
    "from sklearn.datasets import fetch_openml\n",
    "from sklearn.model_selection import StratifiedShuffleSplit\n",
    "from sklearn.linear_model import LogisticRegression\n",
    "from sklearn.model_selection import cross_validate\n",
    "from sklearn.pipeline import Pipeline\n",
    "from sklearn.preprocessing import MinMaxScaler\n",
    "\n",
    "data= fetch_openml('mnist_784', version=1, parser='auto')  # data from https://www.openml.org/d/554\n",
    "dfData = pd.DataFrame(np.c_[data[\"data\"], data[\"target\"]],\n",
    "                      columns = data[\"feature_names\"] + [\"target\"])\n",
    "def numberOfLoops(num):\n",
    "    if num in [\"0\",\"6\",\"9\"]:\n",
    "        return 1\n",
    "    elif num == \"8\":\n",
    "        return 2\n",
    "    return 0\n",
    "dfData[\"numLoops\"] = dfData[\"target\"].apply(numberOfLoops)\n",
    "dfData[\"hasLoop\"] = dfData[\"numLoops\"].apply(lambda x: True if x>0 else False)"
   ]
  },
  {
   "cell_type": "code",
   "execution_count": 17,
   "metadata": {},
   "outputs": [],
   "source": [
    "img_pipeline = Pipeline([(\"mm_scaler\", MinMaxScaler())])\n",
    "y = dfData[[\"target\", \"numLoops\", \"hasLoop\"]]\n",
    "dfData = dfData.drop([\"target\", \"numLoops\", \"hasLoop\"], axis=1)\n",
    "X = dfData.copy()\n",
    "X_transf = img_pipeline.fit_transform(X)"
   ]
  },
  {
   "cell_type": "code",
   "execution_count": 18,
   "metadata": {},
   "outputs": [],
   "source": [
    "stratSplit = StratifiedShuffleSplit(n_splits=1, test_size=0.2, random_state=0)\n",
    "for train_index, test_index in stratSplit.split(X_transf, y):\n",
    "    X_train = X_transf[train_index]\n",
    "    X_test = X_transf[test_index]\n",
    "    \n",
    "    y_train = y.iloc[train_index]\n",
    "    y_test = y.iloc[test_index]"
   ]
  },
  {
   "cell_type": "code",
   "execution_count": null,
   "metadata": {},
   "outputs": [],
   "source": [
    "log_reg = LogisticRegression(C=1e5, max_iter=100)\n",
    "log_reg.fit(X_train, y_train.values)\n",
    "log_reg.predict(X_test)[0]"
   ]
  },
  {
   "cell_type": "code",
   "execution_count": null,
   "metadata": {},
   "outputs": [],
   "source": [
    "from sklearn.multioutput import MultiOutputClassifier\n",
    "y_train[\"target\"] = y_train[\"target\"].apply(lambda x: int(x))\n",
    "y_train[\"hasLoop\"] = y_train[\"hasLoop\"].apply(lambda x: int(x))\n",
    "\n",
    "# y_test[\"target\"] = y_test[\"target\"].apply(lambda x: int(x))\n",
    "log_reg = LogisticRegression(C=1e5)\n",
    "log_reg_multi_label = MultiOutputClassifier(log_reg)\n",
    "log_reg_multi_label.fit(X_train, y_train.values)\n",
    "log_reg_multi_label.predict(X_test)[0]"
   ]
  },
  {
   "cell_type": "code",
   "execution_count": 24,
   "metadata": {},
   "outputs": [],
   "source": [
    "from sklearn.base import clone\n",
    "\n",
    "class customMultilabel():\n",
    "    def __init__(self, clf):\n",
    "        self.clf = clf\n",
    "        self.clfs = []\n",
    "        \n",
    "    def fit(self, X, y):\n",
    "        if len(y.shape) == 2:\n",
    "            self.numOutputs = y.shape[-1]\n",
    "        elif len(y.shape) == 1:\n",
    "            self.numOutputs = 1\n",
    "        else:\n",
    "            print(\"Unexpected target shape\")\n",
    "            raise(RuntimeError)\n",
    "            \n",
    "        for i in range(self.numOutputs):\n",
    "            self.clfs.append(clone(self.clf))\n",
    "            self.clfs[i].fit(X, y.iloc[:,i])\n",
    "            \n",
    "    def predict(self, X):\n",
    "        output = None\n",
    "        for i in range(self.numOutputs):\n",
    "            r = self.clfs[i].predict(X)\n",
    "            if output is None:\n",
    "                output = r.copy()\n",
    "            else:\n",
    "                output = np.c_[output, r]\n",
    "            \n",
    "        return output"
   ]
  },
  {
   "cell_type": "code",
   "execution_count": null,
   "metadata": {},
   "outputs": [],
   "source": [
    "cml_log_reg = customMultilabel(LogisticRegression(C=1e5))\n",
    "cml_log_reg.fit(X_train, y_train)\n",
    "output = cml_log_reg.predict(X_test)"
   ]
  },
  {
   "cell_type": "code",
   "execution_count": 14,
   "metadata": {},
   "outputs": [
    {
     "data": {
      "text/plain": [
       "array([['0', 1, True],\n",
       "       ['0', 1, True],\n",
       "       ['4', 0, False],\n",
       "       ['6', 1, True],\n",
       "       ['1', 0, False]], dtype=object)"
      ]
     },
     "execution_count": 14,
     "metadata": {},
     "output_type": "execute_result"
    }
   ],
   "source": [
    "output[:5]"
   ]
  },
  {
   "cell_type": "code",
   "execution_count": 15,
   "metadata": {},
   "outputs": [
    {
     "data": {
      "text/html": [
       "<div>\n",
       "<style scoped>\n",
       "    .dataframe tbody tr th:only-of-type {\n",
       "        vertical-align: middle;\n",
       "    }\n",
       "\n",
       "    .dataframe tbody tr th {\n",
       "        vertical-align: top;\n",
       "    }\n",
       "\n",
       "    .dataframe thead th {\n",
       "        text-align: right;\n",
       "    }\n",
       "</style>\n",
       "<table border=\"1\" class=\"dataframe\">\n",
       "  <thead>\n",
       "    <tr style=\"text-align: right;\">\n",
       "      <th></th>\n",
       "      <th>target</th>\n",
       "      <th>numLoops</th>\n",
       "      <th>hasLoop</th>\n",
       "    </tr>\n",
       "  </thead>\n",
       "  <tbody>\n",
       "    <tr>\n",
       "      <th>29205</th>\n",
       "      <td>0</td>\n",
       "      <td>1</td>\n",
       "      <td>True</td>\n",
       "    </tr>\n",
       "    <tr>\n",
       "      <th>5801</th>\n",
       "      <td>0</td>\n",
       "      <td>1</td>\n",
       "      <td>True</td>\n",
       "    </tr>\n",
       "    <tr>\n",
       "      <th>18245</th>\n",
       "      <td>4</td>\n",
       "      <td>0</td>\n",
       "      <td>False</td>\n",
       "    </tr>\n",
       "    <tr>\n",
       "      <th>41828</th>\n",
       "      <td>6</td>\n",
       "      <td>1</td>\n",
       "      <td>True</td>\n",
       "    </tr>\n",
       "    <tr>\n",
       "      <th>24289</th>\n",
       "      <td>1</td>\n",
       "      <td>0</td>\n",
       "      <td>False</td>\n",
       "    </tr>\n",
       "  </tbody>\n",
       "</table>\n",
       "</div>"
      ],
      "text/plain": [
       "      target  numLoops  hasLoop\n",
       "29205      0         1     True\n",
       "5801       0         1     True\n",
       "18245      4         0    False\n",
       "41828      6         1     True\n",
       "24289      1         0    False"
      ]
     },
     "execution_count": 15,
     "metadata": {},
     "output_type": "execute_result"
    }
   ],
   "source": [
    "y_test[:5]"
   ]
  },
  {
   "cell_type": "code",
   "execution_count": null,
   "metadata": {},
   "outputs": [],
   "source": []
  }
 ],
 "metadata": {
  "kernelspec": {
   "display_name": "Python 3",
   "language": "python",
   "name": "python3"
  },
  "language_info": {
   "codemirror_mode": {
    "name": "ipython",
    "version": 3
   },
   "file_extension": ".py",
   "mimetype": "text/x-python",
   "name": "python",
   "nbconvert_exporter": "python",
   "pygments_lexer": "ipython3",
   "version": "3.7.6"
  }
 },
 "nbformat": 4,
 "nbformat_minor": 2
}
